{
 "cells": [
  {
   "cell_type": "code",
   "execution_count": 1,
   "id": "disabled-villa",
   "metadata": {},
   "outputs": [],
   "source": [
    "import pypylon.pylon as py\n",
    "import numpy as np\n",
    "import matplotlib.pyplot as plt\n",
    "import cv2\n",
    "import os"
   ]
  },
  {
   "cell_type": "code",
   "execution_count": 2,
   "id": "chinese-humanity",
   "metadata": {},
   "outputs": [],
   "source": [
    "NUM_CAMERAS = 10"
   ]
  },
  {
   "cell_type": "code",
   "execution_count": 3,
   "id": "bronze-family",
   "metadata": {},
   "outputs": [],
   "source": [
    "# setup demo environment with 10 cameras\n",
    "os.environ[\"PYLON_CAMEMU\"] = f\"{NUM_CAMERAS}\""
   ]
  },
  {
   "cell_type": "code",
   "execution_count": 4,
   "id": "technological-consequence",
   "metadata": {},
   "outputs": [],
   "source": [
    "tlf = py.TlFactory.GetInstance()"
   ]
  },
  {
   "cell_type": "code",
   "execution_count": 5,
   "id": "complete-change",
   "metadata": {},
   "outputs": [
    {
     "data": {
      "text/plain": [
       "<pypylon.pylon.DeviceInfo; proxy of <Swig Object of type 'Pylon::CDeviceInfo *' at 0x00000163E1CD7B40> >"
      ]
     },
     "execution_count": 5,
     "metadata": {},
     "output_type": "execute_result"
    }
   ],
   "source": [
    "# create a device filter for Pylon CamEmu devices\n",
    "di = py.DeviceInfo()\n",
    "di.SetDeviceClass(\"BaslerCamEmu\")\n",
    "\n",
    "# you could also set more device filters like e.g.:\n",
    "# these are combined as AND \n",
    "# di.SetSerialNumber(\"2134234\")"
   ]
  },
  {
   "cell_type": "code",
   "execution_count": 6,
   "id": "experimental-revelation",
   "metadata": {},
   "outputs": [],
   "source": [
    "devs = tlf.EnumerateDevices([di,])"
   ]
  },
  {
   "cell_type": "code",
   "execution_count": 7,
   "id": "graphic-customs",
   "metadata": {},
   "outputs": [
    {
     "data": {
      "text/plain": [
       "(<pypylon.pylon.DeviceInfo; proxy of <Swig Object of type 'Pylon::CDeviceInfo *' at 0x00000163FB83F660> >,\n",
       " <pypylon.pylon.DeviceInfo; proxy of <Swig Object of type 'Pylon::CDeviceInfo *' at 0x00000163FC3E7F60> >,\n",
       " <pypylon.pylon.DeviceInfo; proxy of <Swig Object of type 'Pylon::CDeviceInfo *' at 0x00000163E1CC8AE0> >,\n",
       " <pypylon.pylon.DeviceInfo; proxy of <Swig Object of type 'Pylon::CDeviceInfo *' at 0x00000163E1CD7360> >,\n",
       " <pypylon.pylon.DeviceInfo; proxy of <Swig Object of type 'Pylon::CDeviceInfo *' at 0x00000163E1CD7660> >,\n",
       " <pypylon.pylon.DeviceInfo; proxy of <Swig Object of type 'Pylon::CDeviceInfo *' at 0x00000163FC401030> >,\n",
       " <pypylon.pylon.DeviceInfo; proxy of <Swig Object of type 'Pylon::CDeviceInfo *' at 0x00000163FC401180> >,\n",
       " <pypylon.pylon.DeviceInfo; proxy of <Swig Object of type 'Pylon::CDeviceInfo *' at 0x00000163FC4010F0> >,\n",
       " <pypylon.pylon.DeviceInfo; proxy of <Swig Object of type 'Pylon::CDeviceInfo *' at 0x00000163FC401300> >,\n",
       " <pypylon.pylon.DeviceInfo; proxy of <Swig Object of type 'Pylon::CDeviceInfo *' at 0x00000163FC4013F0> >)"
      ]
     },
     "execution_count": 7,
     "metadata": {},
     "output_type": "execute_result"
    }
   ],
   "source": [
    "devs"
   ]
  },
  {
   "cell_type": "code",
   "execution_count": 8,
   "id": "intermediate-removal",
   "metadata": {},
   "outputs": [],
   "source": [
    "cam_array = py.InstantCameraArray(NUM_CAMERAS)"
   ]
  },
  {
   "cell_type": "code",
   "execution_count": 9,
   "id": "strange-passion",
   "metadata": {},
   "outputs": [],
   "source": [
    "for idx, cam in enumerate(cam_array):\n",
    "    cam.Attach(tlf.CreateDevice(devs[idx]))"
   ]
  },
  {
   "cell_type": "code",
   "execution_count": 10,
   "id": "iraqi-discovery",
   "metadata": {},
   "outputs": [],
   "source": [
    "cam_array.Open()"
   ]
  },
  {
   "cell_type": "code",
   "execution_count": 11,
   "id": "german-interface",
   "metadata": {},
   "outputs": [
    {
     "name": "stdout",
     "output_type": "stream",
     "text": [
      "set context 0 for camera 0815-0000\n",
      "set context 1 for camera 0815-0001\n",
      "set context 2 for camera 0815-0002\n",
      "set context 3 for camera 0815-0003\n",
      "set context 4 for camera 0815-0004\n",
      "set context 5 for camera 0815-0005\n",
      "set context 6 for camera 0815-0006\n",
      "set context 7 for camera 0815-0007\n",
      "set context 8 for camera 0815-0008\n",
      "set context 9 for camera 0815-0009\n"
     ]
    }
   ],
   "source": [
    "# store a unique number for each camera to identify the incoming images\n",
    "for idx, cam in enumerate(cam_array):\n",
    "    camera_serial = cam.DeviceInfo.GetSerialNumber()\n",
    "    print(f\"set context {idx} for camera {camera_serial}\")\n",
    "    cam.SetCameraContext(idx)"
   ]
  },
  {
   "cell_type": "code",
   "execution_count": 12,
   "id": "veterinary-prairie",
   "metadata": {},
   "outputs": [
    {
     "name": "stdout",
     "output_type": "stream",
     "text": [
      "set Exposuretime 0 for camera 0815-0000\n",
      "set Exposuretime 1 for camera 0815-0001\n",
      "set Exposuretime 2 for camera 0815-0002\n",
      "set Exposuretime 3 for camera 0815-0003\n",
      "set Exposuretime 4 for camera 0815-0004\n",
      "set Exposuretime 5 for camera 0815-0005\n",
      "set Exposuretime 6 for camera 0815-0006\n",
      "set Exposuretime 7 for camera 0815-0007\n",
      "set Exposuretime 8 for camera 0815-0008\n",
      "set Exposuretime 9 for camera 0815-0009\n"
     ]
    }
   ],
   "source": [
    "# set the exposure time for each camera\n",
    "for idx, cam in enumerate(cam_array):\n",
    "    camera_serial = cam.DeviceInfo.GetSerialNumber()\n",
    "    print(f\"set Exposuretime {idx} for camera {camera_serial}\")\n",
    "    cam.ExposureTimeRaw = 10000"
   ]
  },
  {
   "cell_type": "code",
   "execution_count": 13,
   "id": "damaged-bidding",
   "metadata": {},
   "outputs": [],
   "source": [
    "# wait for all cameras to grab 10 frames\n",
    "frames_to_grab = 10\n",
    "# store last framecount in array\n",
    "frame_counts = [0]*NUM_CAMERAS"
   ]
  },
  {
   "cell_type": "code",
   "execution_count": 14,
   "id": "individual-heritage",
   "metadata": {},
   "outputs": [
    {
     "data": {
      "text/plain": [
       "[0, 0, 0, 0, 0, 0, 0, 0, 0, 0]"
      ]
     },
     "execution_count": 14,
     "metadata": {},
     "output_type": "execute_result"
    }
   ],
   "source": [
    "frame_counts"
   ]
  },
  {
   "cell_type": "code",
   "execution_count": 15,
   "id": "removed-sensitivity",
   "metadata": {
    "scrolled": true
   },
   "outputs": [
    {
     "name": "stdout",
     "output_type": "stream",
     "text": [
      "cam #5  image #1\n",
      "cam #0  image #1\n",
      "cam #1  image #1\n",
      "cam #2  image #1\n",
      "cam #3  image #1\n",
      "cam #4  image #1\n",
      "cam #6  image #1\n",
      "cam #7  image #1\n",
      "cam #8  image #1\n",
      "cam #9  image #1\n",
      "cam #7  image #2\n",
      "cam #2  image #2\n",
      "cam #0  image #2\n",
      "cam #5  image #2\n",
      "cam #4  image #2\n",
      "cam #9  image #2\n",
      "cam #1  image #2\n",
      "cam #8  image #2\n",
      "cam #6  image #2\n",
      "cam #3  image #2\n",
      "cam #3  image #3\n",
      "cam #2  image #3\n",
      "cam #6  image #3\n",
      "cam #1  image #3\n",
      "cam #4  image #3\n",
      "cam #0  image #3\n",
      "cam #8  image #3\n",
      "cam #5  image #3\n",
      "cam #9  image #3\n",
      "cam #7  image #3\n",
      "cam #1  image #4\n",
      "cam #7  image #4\n",
      "cam #3  image #4\n",
      "cam #0  image #4\n",
      "cam #8  image #4\n",
      "cam #9  image #4\n",
      "cam #5  image #4\n",
      "cam #2  image #4\n",
      "cam #6  image #4\n",
      "cam #4  image #4\n",
      "cam #5  image #5\n",
      "cam #0  image #5\n",
      "cam #7  image #5\n",
      "cam #3  image #5\n",
      "cam #2  image #5\n",
      "cam #8  image #5\n",
      "cam #6  image #5\n",
      "cam #9  image #5\n",
      "cam #4  image #5\n",
      "cam #1  image #5\n",
      "cam #6  image #6\n",
      "cam #9  image #6\n",
      "cam #8  image #6\n",
      "cam #1  image #6\n",
      "cam #2  image #6\n",
      "cam #4  image #6\n",
      "cam #5  image #6\n",
      "cam #3  image #6\n",
      "cam #7  image #6\n",
      "cam #0  image #6\n",
      "cam #7  image #7\n",
      "cam #5  image #7\n",
      "cam #8  image #7\n",
      "cam #3  image #7\n",
      "cam #4  image #7\n",
      "cam #0  image #7\n",
      "cam #9  image #7\n",
      "cam #1  image #7\n",
      "cam #2  image #7\n",
      "cam #6  image #7\n",
      "cam #1  image #8\n",
      "cam #9  image #8\n",
      "cam #7  image #8\n",
      "cam #4  image #8\n",
      "cam #8  image #8\n",
      "cam #2  image #8\n",
      "cam #5  image #8\n",
      "cam #3  image #8\n",
      "cam #6  image #8\n",
      "cam #0  image #8\n",
      "cam #3  image #9\n",
      "cam #0  image #9\n",
      "cam #7  image #9\n",
      "cam #4  image #9\n",
      "cam #5  image #9\n",
      "cam #9  image #9\n",
      "cam #2  image #9\n",
      "cam #1  image #9\n",
      "cam #6  image #9\n",
      "cam #8  image #9\n",
      "cam #6  image #10\n",
      "cam #7  image #10\n",
      "cam #1  image #10\n",
      "cam #5  image #10\n",
      "cam #4  image #10\n",
      "cam #9  image #10\n",
      "cam #0  image #10\n",
      "cam #3  image #10\n",
      "cam #2  image #10\n",
      "cam #8  image #10\n",
      "all cameras have acquired 10 frames\n"
     ]
    }
   ],
   "source": [
    "cam_array.StartGrabbing()\n",
    "while True:\n",
    "    with cam_array.RetrieveResult(1000) as res:\n",
    "        if res.GrabSucceeded():\n",
    "            img_nr = res.ImageNumber\n",
    "            cam_id = res.GetCameraContext()\n",
    "            frame_counts[cam_id] = img_nr\n",
    "            print(f\"cam #{cam_id}  image #{img_nr}\")\n",
    "            \n",
    "            # do something with the image ....\n",
    "            \n",
    "            # check if all cameras have reached 100 images\n",
    "            if min(frame_counts) >= frames_to_grab:\n",
    "                print( f\"all cameras have acquired {frames_to_grab} frames\")\n",
    "                break\n",
    "                \n",
    "                \n",
    "cam_array.StopGrabbing()"
   ]
  },
  {
   "cell_type": "code",
   "execution_count": 16,
   "id": "rotary-harassment",
   "metadata": {},
   "outputs": [],
   "source": [
    "cam_array.Close()"
   ]
  },
  {
   "cell_type": "code",
   "execution_count": 17,
   "id": "minus-finding",
   "metadata": {},
   "outputs": [
    {
     "data": {
      "text/plain": [
       "[10, 10, 10, 10, 10, 10, 10, 10, 10, 10]"
      ]
     },
     "execution_count": 17,
     "metadata": {},
     "output_type": "execute_result"
    }
   ],
   "source": [
    "frame_counts"
   ]
  },
  {
   "cell_type": "code",
   "execution_count": null,
   "id": "formal-application",
   "metadata": {},
   "outputs": [],
   "source": []
  }
 ],
 "metadata": {
  "kernelspec": {
   "display_name": "Python 3",
   "language": "python",
   "name": "python3"
  },
  "language_info": {
   "codemirror_mode": {
    "name": "ipython",
    "version": 3
   },
   "file_extension": ".py",
   "mimetype": "text/x-python",
   "name": "python",
   "nbconvert_exporter": "python",
   "pygments_lexer": "ipython3",
   "version": "3.9.1"
  }
 },
 "nbformat": 4,
 "nbformat_minor": 5
}
