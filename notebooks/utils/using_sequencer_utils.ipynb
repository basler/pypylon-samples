{
 "cells": [
  {
   "metadata": {},
   "cell_type": "markdown",
   "source": "# Using the SequencerUtils",
   "id": "9c7e365065270bff"
  },
  {
   "metadata": {
    "ExecuteTime": {
     "end_time": "2025-06-02T09:59:37.316411Z",
     "start_time": "2025-06-02T09:59:37.233352Z"
    }
   },
   "cell_type": "code",
   "source": [
    "# import pylon and the sequencer utils\n",
    "from pypylon import pylon as py\n",
    "from utils.sequencer.sequencer import CameraSequence, SinglePathSet, SequencerTransition"
   ],
   "id": "fa4ffc9cdc4f57a2",
   "outputs": [],
   "execution_count": 1
  },
  {
   "metadata": {
    "ExecuteTime": {
     "end_time": "2025-06-02T09:59:38.138720Z",
     "start_time": "2025-06-02T09:59:37.320593Z"
    }
   },
   "cell_type": "code",
   "source": [
    "# create a camera instance an open it\n",
    "my_cam = py.InstantCamera(py.TlFactory.GetInstance().CreateFirstDevice())\n",
    "my_cam.Open()\n",
    "\n",
    "# create a sequence object with the camera\n",
    "# this will be used to configure the sequencer\n",
    "sequence = CameraSequence(camera=my_cam)"
   ],
   "id": "17a13949edc8660a",
   "outputs": [],
   "execution_count": 2
  },
  {
   "metadata": {},
   "cell_type": "markdown",
   "source": "#### Define the transitions to change the sequencer to the next set\n",
   "id": "d0d95643b3f04a2c"
  },
  {
   "metadata": {
    "ExecuteTime": {
     "end_time": "2025-06-02T09:59:38.277999Z",
     "start_time": "2025-06-02T09:59:38.274958Z"
    }
   },
   "cell_type": "code",
   "source": [
    "# if a software signal is triggerd (manual control)\n",
    "software_transition = SequencerTransition(trigger_source=\"SoftwareSignal1\", trigger_activation=\"NA\")\n",
    "# if an exposure is started (change every frame)\n",
    "next_frame_transition = SequencerTransition(trigger_source=\"ExposureStart\", trigger_activation=\"NA\")"
   ],
   "id": "fc594d2eaf58abf2",
   "outputs": [],
   "execution_count": 3
  },
  {
   "metadata": {},
   "cell_type": "markdown",
   "source": [
    "###  Setup three sets\n",
    "#### Remain in the \"Medium\" set until a software signal occur, than do a set with a \"Low\", and a set with a \"High\" exposure time\n",
    "#### Use \"auto_close_loop\" to return to the \"Medium\" set after the \"High\" set without explicitly setting the next set in the \"High\" set.\n"
   ],
   "id": "dc6d28b63fcbf67e"
  },
  {
   "metadata": {
    "ExecuteTime": {
     "end_time": "2025-06-02T09:59:38.447986Z",
     "start_time": "2025-06-02T09:59:38.283752Z"
    }
   },
   "cell_type": "code",
   "source": [
    "# appending the sets to the sequence will define the order of transition, if next_set_number is not explicitly set in the SinglePathSet\n",
    "sequence.append(SinglePathSet(name=\"Medium\", set_number=0, feature_set={\"ExposureTime\": 1000}, transition=software_transition))\n",
    "sequence.append(SinglePathSet(name=\"Low\", set_number=1, feature_set={\"ExposureTime\": 100}, transition=next_frame_transition))\n",
    "sequence.append(SinglePathSet(name=\"High\", set_number=2, feature_set={\"ExposureTime\": 5000}, transition=next_frame_transition))\n",
    "\n",
    "# By using auto close loop, we return into the \"Medium\" Set after leaving set: \"High\" automatically.\n",
    "# This could also be done by setting the next set in the SetConstructor, like:\n",
    "# SinglePathSet(name=\"High\",set_number=2,next_set_number=0,feature_set={\"ExposureTime\": 5000}, transition=next_frame_transition)\n",
    "sequence.configure(auto_close_loop=True)"
   ],
   "id": "78ac3d32f71a18d4",
   "outputs": [],
   "execution_count": 4
  },
  {
   "metadata": {
    "ExecuteTime": {
     "end_time": "2025-06-02T09:59:38.460668Z",
     "start_time": "2025-06-02T09:59:38.456426Z"
    }
   },
   "cell_type": "code",
   "source": [
    "# The sequence supports a string representation, which can be used to print the sequence in a human readable format.\n",
    "# This is useful for debugging and understanding the sequence flow.\n",
    "print(\"Sequence Configuration:\")\n",
    "for i in sequence:\n",
    "    print(f\"\\t{i}\")"
   ],
   "id": "58763ec7e8d14b9c",
   "outputs": [
    {
     "name": "stdout",
     "output_type": "stream",
     "text": [
      "Sequence Configuration:\n",
      "\t[0] (Name: Medium) switch to [1] if Event on SoftwareSignal1\n",
      "\t[1] (Name: Low) switch to [2] if Event on ExposureStart\n",
      "\t[2] (Name: High) switch to [0] if Event on ExposureStart\n"
     ]
    }
   ],
   "execution_count": 5
  },
  {
   "metadata": {
    "collapsed": true,
    "ExecuteTime": {
     "end_time": "2025-06-02T09:59:38.726976Z",
     "start_time": "2025-06-02T09:59:38.537736Z"
    }
   },
   "cell_type": "code",
   "source": "sequence.activate()",
   "id": "initial_id",
   "outputs": [],
   "execution_count": 6
  },
  {
   "metadata": {
    "ExecuteTime": {
     "end_time": "2025-06-02T10:00:29.551769Z",
     "start_time": "2025-06-02T10:00:29.548528Z"
    }
   },
   "cell_type": "code",
   "source": [
    "# close the camera to allow access in the pylon viewer\n",
    "my_cam.Close()"
   ],
   "id": "b11aba7f778500b8",
   "outputs": [],
   "execution_count": 7
  },
  {
   "metadata": {},
   "cell_type": "markdown",
   "source": [
    "The sequence is now configured and activated. You can now start the camera and it will automatically switch between the sets based on the defined transitions.\n",
    "You can easyly verify this by using the pylon viewer and start continuous acquisition. By using the software signal,\n",
    "the camera will change from Medium to Low and High exposure time, and return to Medium after the High set, waiting for the next software signal to change to Low again.\n"
   ],
   "id": "d8f48e799ac4a287"
  }
 ],
 "metadata": {
  "kernelspec": {
   "display_name": "Python 3",
   "language": "python",
   "name": "python3"
  },
  "language_info": {
   "codemirror_mode": {
    "name": "ipython",
    "version": 2
   },
   "file_extension": ".py",
   "mimetype": "text/x-python",
   "name": "python",
   "nbconvert_exporter": "python",
   "pygments_lexer": "ipython2",
   "version": "2.7.6"
  }
 },
 "nbformat": 4,
 "nbformat_minor": 5
}
