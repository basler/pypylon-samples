{
 "cells": [
  {
   "cell_type": "markdown",
   "id": "e64d11890afc886b",
   "metadata": {},
   "source": [
    "\n",
    "# Using the serial communication utils\n",
    "### This example shows how to use the BaslerSerial class to communicate with a serial device connected to a Basler camera."
   ]
  },
  {
   "cell_type": "code",
   "execution_count": 1,
   "id": "cf8b9a400ca96105",
   "metadata": {
    "ExecuteTime": {
     "end_time": "2025-06-02T21:43:24.136393Z",
     "start_time": "2025-06-02T21:43:24.042152Z"
    }
   },
   "outputs": [],
   "source": [
    "import time\n",
    "\n",
    "import serial\n",
    "from pypylon import pylon as py\n",
    "from pypylon_contrib.serial_communication import BaslerSerial\n",
    "\n",
    "import logging\n",
    "logger = logging.getLogger()\n",
    "logger.setLevel(logging.INFO)"
   ]
  },
  {
   "cell_type": "markdown",
   "id": "447ca264f53cc3ad",
   "metadata": {},
   "source": [
    "Create a BaslerSerial instance by passing the camera instance and the serial port parameters."
   ]
  },
  {
   "cell_type": "code",
   "execution_count": 2,
   "id": "d317ae7b51223322",
   "metadata": {
    "ExecuteTime": {
     "end_time": "2025-06-02T21:43:24.982688Z",
     "start_time": "2025-06-02T21:43:24.139515Z"
    }
   },
   "outputs": [],
   "source": [
    "\n",
    "my_camera = py.InstantCamera(py.TlFactory.GetInstance().CreateFirstDevice())\n",
    "\n",
    "cam_serial = BaslerSerial(camera=my_camera,\n",
    "                          rx_line=\"Line3\",\n",
    "                          tx_line=\"Line2\",\n",
    "                          baudrate=115200,\n",
    "                          bytesize=8,\n",
    "                          parity=serial.PARITY_NONE,\n",
    "                          timeout=1,)"
   ]
  },
  {
   "cell_type": "markdown",
   "id": "5da05a8354a288d5",
   "metadata": {},
   "source": [
    "Create a Serial instance by passing port name and the serial port parameters.\n"
   ]
  },
  {
   "cell_type": "code",
   "execution_count": 3,
   "id": "42771fe567370046",
   "metadata": {
    "ExecuteTime": {
     "end_time": "2025-06-02T21:43:25.712889Z",
     "start_time": "2025-06-02T21:43:25.588323Z"
    }
   },
   "outputs": [],
   "source": [
    "\n",
    "port_serial = serial.Serial(\"COM7\",\n",
    "                            baudrate=115200,\n",
    "                            bytesize=8,\n",
    "                            parity=serial.PARITY_NONE,\n",
    "                            timeout=1)"
   ]
  },
  {
   "cell_type": "code",
   "execution_count": 4,
   "id": "4da8ed3ba4c8de9c",
   "metadata": {
    "ExecuteTime": {
     "end_time": "2025-06-02T21:43:25.722211Z",
     "start_time": "2025-06-02T21:43:25.719156Z"
    }
   },
   "outputs": [
    {
     "name": "stdout",
     "output_type": "stream",
     "text": [
      "BaslerSerial<id=0x232599eb760, open=True>(port='Basler_40110957', baudrate=115200, bytesize=8, parity='N', stopbits=1, timeout=1, xonxoff=False, rtscts=False, dsrdtr=False)\n",
      "Serial<id=0x2325ab85150, open=True>(port='COM7', baudrate=115200, bytesize=8, parity='N', stopbits=1, timeout=1, xonxoff=False, rtscts=False, dsrdtr=False)\n"
     ]
    }
   ],
   "source": [
    "# Both serial ports have nearly the same API, so you can use them interchangeably and replace a standard serial.Serial instance with a BaslerSerial.\n",
    "print(cam_serial)\n",
    "print(port_serial)"
   ]
  },
  {
   "cell_type": "markdown",
   "id": "30db54c4f041ab23",
   "metadata": {},
   "source": [
    "### Writing a message via the camera serial port and read it back from the serial device.\n",
    "The amount of write data is unlimited, due to host side buffering,\n",
    "but if the message is larger than the camera's tx buffer, the write will block until the message is sent completely."
   ]
  },
  {
   "cell_type": "code",
   "execution_count": 5,
   "id": "c45a055e984508d8",
   "metadata": {
    "ExecuteTime": {
     "end_time": "2025-06-02T21:43:26.366269Z",
     "start_time": "2025-06-02T21:43:25.739784Z"
    }
   },
   "outputs": [
    {
     "name": "stdout",
     "output_type": "stream",
     "text": [
      "Bytes written: 95\n",
      "Bytes waiting: 95\n",
      "Send message    : b'Sending a test message from Camera to serial device, without limitation due to host side buffer'\n",
      "Received message: b'Sending a test message from Camera to serial device, without limitation due to host side buffer'\n",
      "Camera Status: []\n"
     ]
    }
   ],
   "source": [
    "\n",
    "test_message_write = b\"Sending a test message from Camera to serial device, without limitation due to host side buffer\"\n",
    "\n",
    "# the write will block if the test message is larger than the camera tx buffer,\n",
    "# but to ensure that the message is sent always complete, add an additional flush after the write\n",
    "bytes_written = cam_serial.write(test_message_write)\n",
    "cam_serial.flush()\n",
    "# for really low baudrates, the last byte may be in the output register of the camera,\n",
    "# so we wait for an additional 5ms to ensure that the message is sent completely (~1 byte at 2400 Baud)\n",
    "time.sleep(0.005)\n",
    "\n",
    "bytes_waiting = port_serial.in_waiting\n",
    "print(f\"Bytes written: {bytes_written}\")\n",
    "print(f\"Bytes waiting: {bytes_waiting}\")\n",
    "test_message_read = port_serial.read(bytes_waiting)\n",
    "print(f\"Send message    : {test_message_write}\")\n",
    "print(f\"Received message: {test_message_read}\")\n",
    "\n",
    "# check the status of the camera serial port\n",
    "print(f\"Camera Status: {cam_serial.check_status(assert_ok=False)}\")"
   ]
  },
  {
   "cell_type": "markdown",
   "id": "68a68a09f135d176",
   "metadata": {},
   "source": [
    "### Writing a message via the serial device and read it back from the camera port.\n",
    "The amount of read data is limited, if no thread is calling \"receive\" periodically to pull the data from the camera.\n",
    "If the message is larger than the camera's rx buffer, the read will be incomplete and the camera will report an overflow error."
   ]
  },
  {
   "cell_type": "code",
   "execution_count": 6,
   "id": "4c4358bbaa9dd343",
   "metadata": {
    "ExecuteTime": {
     "end_time": "2025-06-02T21:43:26.490397Z",
     "start_time": "2025-06-02T21:43:26.381484Z"
    }
   },
   "outputs": [
    {
     "name": "stdout",
     "output_type": "stream",
     "text": [
      "Bytes written: 15\n",
      "Bytes waiting: 15\n",
      "Send message    : b'Sending message'\n",
      "Received message: b'Sending message'\n",
      "Camera Status: []\n"
     ]
    }
   ],
   "source": [
    "\n",
    "\n",
    "rx_limit = my_camera.BslSerialTransferLength.Max\n",
    "too_long_message = (\"-\" * rx_limit + \" Overflow!\").encode()\n",
    "\n",
    "test_message_write = b\"Sending message\" # normal size message, no overflow expected\n",
    "# test_message_write = too_long_message # message size exceeds limitations, overflow expected\n",
    "\n",
    "\n",
    "bytes_written = port_serial.write(test_message_write)\n",
    "port_serial.flush()\n",
    "\n",
    "# the buffer inside the com-device may hold more bytes, lets wait for additional 0.1 seconds\n",
    "time.sleep(0.1)\n",
    "\n",
    "bytes_waiting = cam_serial.in_waiting\n",
    "print(f\"Bytes written: {bytes_written}\")\n",
    "print(f\"Bytes waiting: {bytes_waiting}\")\n",
    "test_message_read = cam_serial.read(bytes_waiting)\n",
    "print(f\"Send message    : {test_message_write}\")\n",
    "print(f\"Received message: {test_message_read}\")\n",
    "\n",
    "# check the status of the camera serial port, due to the limitation of the camera rx buffer,\n",
    "# this could be \"RX_FIFO_OVERFLOW\" if len(test_message_write) > my_camera.camera.BslSerialTransferLength.Max\n",
    "print(f\"Camera Status: {cam_serial.check_status(assert_ok=False)}\")"
   ]
  },
  {
   "cell_type": "code",
   "execution_count": 7,
   "id": "938bab4bcfc8efc",
   "metadata": {
    "ExecuteTime": {
     "end_time": "2025-06-02T21:43:26.511409Z",
     "start_time": "2025-06-02T21:43:26.505983Z"
    }
   },
   "outputs": [],
   "source": [
    "# Close the serial ports and the camera.\n",
    "cam_serial.close()  # Warning: closing the camera serial port will automatically close the camera, only marks the serial port as closed\n",
    "my_camera.Close()  # Warning: closing the camera will not automatically mark the serial port as closed, if BaslerSerial instance is still open\n",
    "\n",
    "port_serial.close()"
   ]
  }
 ],
 "metadata": {
  "kernelspec": {
   "display_name": "Python 3",
   "language": "python",
   "name": "python3"
  },
  "language_info": {
   "codemirror_mode": {
    "name": "ipython",
    "version": 2
   },
   "file_extension": ".py",
   "mimetype": "text/x-python",
   "name": "python",
   "nbconvert_exporter": "python",
   "pygments_lexer": "ipython2",
   "version": "2.7.6"
  }
 },
 "nbformat": 4,
 "nbformat_minor": 5
}
